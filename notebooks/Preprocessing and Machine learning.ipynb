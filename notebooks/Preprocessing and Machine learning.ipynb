{
 "cells": [
  {
   "cell_type": "code",
   "execution_count": 103,
   "id": "beb998da",
   "metadata": {},
   "outputs": [],
   "source": [
    "import numpy as np\n",
    "import pandas as pd\n",
    "import matplotlib\n",
    "import matplotlib.pyplot as plt\n",
    "import seaborn as sns\n",
    "import logging\n",
    "import os,sys\n",
    "\n",
    "from sklearn.preprocessing import LabelEncoder\n",
    "from sklearn.preprocessing import MinMaxScaler\n",
    "from sklearn.linear_model import LinearRegression\n",
    "from sklearn.ensemble import RandomForestRegressor\n",
    "from sklearn.tree import DecisionTreeRegressor\n",
    "\n",
    "from sklearn.model_selection import train_test_split\n",
    "from sklearn.pipeline import Pipeline\n",
    "import mlflow\n",
    "from sklearn.model_selection import KFold\n",
    "from sklearn.metrics import mean_squared_error, mean_absolute_error\n",
    "from datetime import datetime\n",
    "\n",
    "\n",
    "import pickle #  To Read and Save model - Serialization\n",
    "\n",
    "\n",
    "sys.path.append(os.path.abspath(os.path.join('..')))\n",
    "import scripts\n",
    "from scripts import util\n",
    "from scripts import plots\n",
    "from scripts.config import Config\n",
    "\n",
    "\n",
    "sns.set_style(\"darkgrid\")\n",
    "%matplotlib inline"
   ]
  },
  {
   "cell_type": "code",
   "execution_count": 105,
   "id": "0128f15f",
   "metadata": {
    "scrolled": true
   },
   "outputs": [
    {
     "name": "stderr",
     "output_type": "stream",
     "text": [
      "C:\\Users\\ProgrammingOperative\\AppData\\Local\\Temp\\ipykernel_3488\\1666470514.py:1: DtypeWarning: Columns (7) have mixed types. Specify dtype option on import or set low_memory=False.\n",
      "  train_data = pd.read_csv('../data/train.csv')\n"
     ]
    },
    {
     "data": {
      "text/html": [
       "<div>\n",
       "<style scoped>\n",
       "    .dataframe tbody tr th:only-of-type {\n",
       "        vertical-align: middle;\n",
       "    }\n",
       "\n",
       "    .dataframe tbody tr th {\n",
       "        vertical-align: top;\n",
       "    }\n",
       "\n",
       "    .dataframe thead th {\n",
       "        text-align: right;\n",
       "    }\n",
       "</style>\n",
       "<table border=\"1\" class=\"dataframe\">\n",
       "  <thead>\n",
       "    <tr style=\"text-align: right;\">\n",
       "      <th></th>\n",
       "      <th>Store</th>\n",
       "      <th>DayOfWeek</th>\n",
       "      <th>Date</th>\n",
       "      <th>Sales</th>\n",
       "      <th>Customers</th>\n",
       "      <th>Open</th>\n",
       "      <th>Promo</th>\n",
       "      <th>StateHoliday</th>\n",
       "      <th>SchoolHoliday</th>\n",
       "    </tr>\n",
       "  </thead>\n",
       "  <tbody>\n",
       "    <tr>\n",
       "      <th>0</th>\n",
       "      <td>1</td>\n",
       "      <td>5</td>\n",
       "      <td>2015-07-31</td>\n",
       "      <td>5263</td>\n",
       "      <td>555</td>\n",
       "      <td>1</td>\n",
       "      <td>1</td>\n",
       "      <td>0</td>\n",
       "      <td>1</td>\n",
       "    </tr>\n",
       "    <tr>\n",
       "      <th>1</th>\n",
       "      <td>2</td>\n",
       "      <td>5</td>\n",
       "      <td>2015-07-31</td>\n",
       "      <td>6064</td>\n",
       "      <td>625</td>\n",
       "      <td>1</td>\n",
       "      <td>1</td>\n",
       "      <td>0</td>\n",
       "      <td>1</td>\n",
       "    </tr>\n",
       "    <tr>\n",
       "      <th>2</th>\n",
       "      <td>3</td>\n",
       "      <td>5</td>\n",
       "      <td>2015-07-31</td>\n",
       "      <td>8314</td>\n",
       "      <td>821</td>\n",
       "      <td>1</td>\n",
       "      <td>1</td>\n",
       "      <td>0</td>\n",
       "      <td>1</td>\n",
       "    </tr>\n",
       "    <tr>\n",
       "      <th>3</th>\n",
       "      <td>4</td>\n",
       "      <td>5</td>\n",
       "      <td>2015-07-31</td>\n",
       "      <td>13995</td>\n",
       "      <td>1498</td>\n",
       "      <td>1</td>\n",
       "      <td>1</td>\n",
       "      <td>0</td>\n",
       "      <td>1</td>\n",
       "    </tr>\n",
       "    <tr>\n",
       "      <th>4</th>\n",
       "      <td>5</td>\n",
       "      <td>5</td>\n",
       "      <td>2015-07-31</td>\n",
       "      <td>4822</td>\n",
       "      <td>559</td>\n",
       "      <td>1</td>\n",
       "      <td>1</td>\n",
       "      <td>0</td>\n",
       "      <td>1</td>\n",
       "    </tr>\n",
       "  </tbody>\n",
       "</table>\n",
       "</div>"
      ],
      "text/plain": [
       "   Store  DayOfWeek        Date  Sales  Customers  Open  Promo StateHoliday  \\\n",
       "0      1          5  2015-07-31   5263        555     1      1            0   \n",
       "1      2          5  2015-07-31   6064        625     1      1            0   \n",
       "2      3          5  2015-07-31   8314        821     1      1            0   \n",
       "3      4          5  2015-07-31  13995       1498     1      1            0   \n",
       "4      5          5  2015-07-31   4822        559     1      1            0   \n",
       "\n",
       "   SchoolHoliday  \n",
       "0              1  \n",
       "1              1  \n",
       "2              1  \n",
       "3              1  \n",
       "4              1  "
      ]
     },
     "execution_count": 105,
     "metadata": {},
     "output_type": "execute_result"
    }
   ],
   "source": [
    "train_data = pd.read_csv('../data/train.csv')\n",
    "test_data = pd.read_csv('../data/test.csv')\n",
    "train_data.head()"
   ]
  },
  {
   "cell_type": "markdown",
   "id": "ec88de88",
   "metadata": {},
   "source": [
    "## 2.1 Preprocessing"
   ]
  },
  {
   "cell_type": "code",
   "execution_count": 107,
   "id": "51839e13",
   "metadata": {},
   "outputs": [],
   "source": [
    "# Converting Date feature into datetime object\n",
    "train_data['Date'] = pd.to_datetime(train_data['Date'])\n",
    "test_data['Date'] = pd.to_datetime(test_data['Date'])"
   ]
  },
  {
   "cell_type": "code",
   "execution_count": 109,
   "id": "98ce522e",
   "metadata": {},
   "outputs": [],
   "source": [
    "store_data = pd.read_csv('../data/store.csv')"
   ]
  },
  {
   "cell_type": "code",
   "execution_count": 111,
   "id": "798b9ffa",
   "metadata": {
    "scrolled": false
   },
   "outputs": [
    {
     "data": {
      "text/html": [
       "<div>\n",
       "<style scoped>\n",
       "    .dataframe tbody tr th:only-of-type {\n",
       "        vertical-align: middle;\n",
       "    }\n",
       "\n",
       "    .dataframe tbody tr th {\n",
       "        vertical-align: top;\n",
       "    }\n",
       "\n",
       "    .dataframe thead th {\n",
       "        text-align: right;\n",
       "    }\n",
       "</style>\n",
       "<table border=\"1\" class=\"dataframe\">\n",
       "  <thead>\n",
       "    <tr style=\"text-align: right;\">\n",
       "      <th></th>\n",
       "      <th>Store</th>\n",
       "      <th>DayOfWeek</th>\n",
       "      <th>Date</th>\n",
       "      <th>Sales</th>\n",
       "      <th>Customers</th>\n",
       "      <th>Open</th>\n",
       "      <th>Promo</th>\n",
       "      <th>StateHoliday</th>\n",
       "      <th>SchoolHoliday</th>\n",
       "      <th>StoreType</th>\n",
       "      <th>Assortment</th>\n",
       "      <th>CompetitionDistance</th>\n",
       "      <th>CompetitionOpenSinceMonth</th>\n",
       "      <th>CompetitionOpenSinceYear</th>\n",
       "      <th>Promo2</th>\n",
       "      <th>Promo2SinceWeek</th>\n",
       "      <th>Promo2SinceYear</th>\n",
       "      <th>PromoInterval</th>\n",
       "    </tr>\n",
       "  </thead>\n",
       "  <tbody>\n",
       "    <tr>\n",
       "      <th>0</th>\n",
       "      <td>1</td>\n",
       "      <td>5</td>\n",
       "      <td>2015-07-31</td>\n",
       "      <td>5263</td>\n",
       "      <td>555</td>\n",
       "      <td>1</td>\n",
       "      <td>1</td>\n",
       "      <td>0</td>\n",
       "      <td>1</td>\n",
       "      <td>c</td>\n",
       "      <td>a</td>\n",
       "      <td>1270.0</td>\n",
       "      <td>9.0</td>\n",
       "      <td>2008.0</td>\n",
       "      <td>0</td>\n",
       "      <td>NaN</td>\n",
       "      <td>NaN</td>\n",
       "      <td>NaN</td>\n",
       "    </tr>\n",
       "    <tr>\n",
       "      <th>1</th>\n",
       "      <td>2</td>\n",
       "      <td>5</td>\n",
       "      <td>2015-07-31</td>\n",
       "      <td>6064</td>\n",
       "      <td>625</td>\n",
       "      <td>1</td>\n",
       "      <td>1</td>\n",
       "      <td>0</td>\n",
       "      <td>1</td>\n",
       "      <td>a</td>\n",
       "      <td>a</td>\n",
       "      <td>570.0</td>\n",
       "      <td>11.0</td>\n",
       "      <td>2007.0</td>\n",
       "      <td>1</td>\n",
       "      <td>13.0</td>\n",
       "      <td>2010.0</td>\n",
       "      <td>Jan,Apr,Jul,Oct</td>\n",
       "    </tr>\n",
       "    <tr>\n",
       "      <th>2</th>\n",
       "      <td>3</td>\n",
       "      <td>5</td>\n",
       "      <td>2015-07-31</td>\n",
       "      <td>8314</td>\n",
       "      <td>821</td>\n",
       "      <td>1</td>\n",
       "      <td>1</td>\n",
       "      <td>0</td>\n",
       "      <td>1</td>\n",
       "      <td>a</td>\n",
       "      <td>a</td>\n",
       "      <td>14130.0</td>\n",
       "      <td>12.0</td>\n",
       "      <td>2006.0</td>\n",
       "      <td>1</td>\n",
       "      <td>14.0</td>\n",
       "      <td>2011.0</td>\n",
       "      <td>Jan,Apr,Jul,Oct</td>\n",
       "    </tr>\n",
       "    <tr>\n",
       "      <th>3</th>\n",
       "      <td>4</td>\n",
       "      <td>5</td>\n",
       "      <td>2015-07-31</td>\n",
       "      <td>13995</td>\n",
       "      <td>1498</td>\n",
       "      <td>1</td>\n",
       "      <td>1</td>\n",
       "      <td>0</td>\n",
       "      <td>1</td>\n",
       "      <td>c</td>\n",
       "      <td>c</td>\n",
       "      <td>620.0</td>\n",
       "      <td>9.0</td>\n",
       "      <td>2009.0</td>\n",
       "      <td>0</td>\n",
       "      <td>NaN</td>\n",
       "      <td>NaN</td>\n",
       "      <td>NaN</td>\n",
       "    </tr>\n",
       "    <tr>\n",
       "      <th>4</th>\n",
       "      <td>5</td>\n",
       "      <td>5</td>\n",
       "      <td>2015-07-31</td>\n",
       "      <td>4822</td>\n",
       "      <td>559</td>\n",
       "      <td>1</td>\n",
       "      <td>1</td>\n",
       "      <td>0</td>\n",
       "      <td>1</td>\n",
       "      <td>a</td>\n",
       "      <td>a</td>\n",
       "      <td>29910.0</td>\n",
       "      <td>4.0</td>\n",
       "      <td>2015.0</td>\n",
       "      <td>0</td>\n",
       "      <td>NaN</td>\n",
       "      <td>NaN</td>\n",
       "      <td>NaN</td>\n",
       "    </tr>\n",
       "  </tbody>\n",
       "</table>\n",
       "</div>"
      ],
      "text/plain": [
       "   Store  DayOfWeek       Date  Sales  Customers  Open  Promo StateHoliday  \\\n",
       "0      1          5 2015-07-31   5263        555     1      1            0   \n",
       "1      2          5 2015-07-31   6064        625     1      1            0   \n",
       "2      3          5 2015-07-31   8314        821     1      1            0   \n",
       "3      4          5 2015-07-31  13995       1498     1      1            0   \n",
       "4      5          5 2015-07-31   4822        559     1      1            0   \n",
       "\n",
       "   SchoolHoliday StoreType Assortment  CompetitionDistance  \\\n",
       "0              1         c          a               1270.0   \n",
       "1              1         a          a                570.0   \n",
       "2              1         a          a              14130.0   \n",
       "3              1         c          c                620.0   \n",
       "4              1         a          a              29910.0   \n",
       "\n",
       "   CompetitionOpenSinceMonth  CompetitionOpenSinceYear  Promo2  \\\n",
       "0                        9.0                    2008.0       0   \n",
       "1                       11.0                    2007.0       1   \n",
       "2                       12.0                    2006.0       1   \n",
       "3                        9.0                    2009.0       0   \n",
       "4                        4.0                    2015.0       0   \n",
       "\n",
       "   Promo2SinceWeek  Promo2SinceYear    PromoInterval  \n",
       "0              NaN              NaN              NaN  \n",
       "1             13.0           2010.0  Jan,Apr,Jul,Oct  \n",
       "2             14.0           2011.0  Jan,Apr,Jul,Oct  \n",
       "3              NaN              NaN              NaN  \n",
       "4              NaN              NaN              NaN  "
      ]
     },
     "execution_count": 111,
     "metadata": {},
     "output_type": "execute_result"
    }
   ],
   "source": [
    "train_store = pd.merge(train_data, store_data, how = 'left', on = \"Store\")\n",
    "test_store = pd.merge(test_data, store_data, how = 'left', on = \"Store\")\n",
    "\n",
    "train_store.head()"
   ]
  },
  {
   "cell_type": "code",
   "execution_count": 113,
   "id": "9c4c8945",
   "metadata": {},
   "outputs": [],
   "source": [
    "# # add_date_features(train_store)\n",
    "# for data in [train_store, test_store]:\n",
    "#     data = util.add_month_year(data)\n",
    "    \n",
    "# store_data.head()"
   ]
  },
  {
   "cell_type": "code",
   "execution_count": 115,
   "id": "e90a6110",
   "metadata": {
    "scrolled": false
   },
   "outputs": [
    {
     "name": "stderr",
     "output_type": "stream",
     "text": [
      "D:\\10 Academy\\Week 3\\Pharmaceutical-Sales-Prediction\\scripts\\util.py:43: FutureWarning: Series.dt.weekofyear and Series.dt.week have been deprecated. Please use Series.dt.isocalendar().week instead.\n",
      "  new_df['WeekOfYear'] = df['Date'].dt.weekofyear\n",
      "D:\\10 Academy\\Week 3\\Pharmaceutical-Sales-Prediction\\scripts\\util.py:43: FutureWarning: Series.dt.weekofyear and Series.dt.week have been deprecated. Please use Series.dt.isocalendar().week instead.\n",
      "  new_df['WeekOfYear'] = df['Date'].dt.weekofyear\n"
     ]
    },
    {
     "data": {
      "text/html": [
       "<div>\n",
       "<style scoped>\n",
       "    .dataframe tbody tr th:only-of-type {\n",
       "        vertical-align: middle;\n",
       "    }\n",
       "\n",
       "    .dataframe tbody tr th {\n",
       "        vertical-align: top;\n",
       "    }\n",
       "\n",
       "    .dataframe thead th {\n",
       "        text-align: right;\n",
       "    }\n",
       "</style>\n",
       "<table border=\"1\" class=\"dataframe\">\n",
       "  <thead>\n",
       "    <tr style=\"text-align: right;\">\n",
       "      <th></th>\n",
       "      <th>Store</th>\n",
       "      <th>DayOfWeek</th>\n",
       "      <th>Date</th>\n",
       "      <th>Sales</th>\n",
       "      <th>Customers</th>\n",
       "      <th>Open</th>\n",
       "      <th>Promo</th>\n",
       "      <th>StateHoliday</th>\n",
       "      <th>SchoolHoliday</th>\n",
       "      <th>StoreType</th>\n",
       "      <th>...</th>\n",
       "      <th>CompetitionOpenSinceMonth</th>\n",
       "      <th>CompetitionOpenSinceYear</th>\n",
       "      <th>Promo2</th>\n",
       "      <th>Promo2SinceWeek</th>\n",
       "      <th>Promo2SinceYear</th>\n",
       "      <th>PromoInterval</th>\n",
       "      <th>Year</th>\n",
       "      <th>Month</th>\n",
       "      <th>Day</th>\n",
       "      <th>WeekOfYear</th>\n",
       "    </tr>\n",
       "  </thead>\n",
       "  <tbody>\n",
       "    <tr>\n",
       "      <th>0</th>\n",
       "      <td>1</td>\n",
       "      <td>5</td>\n",
       "      <td>2015-07-31</td>\n",
       "      <td>5263</td>\n",
       "      <td>555</td>\n",
       "      <td>1</td>\n",
       "      <td>1</td>\n",
       "      <td>0</td>\n",
       "      <td>1</td>\n",
       "      <td>c</td>\n",
       "      <td>...</td>\n",
       "      <td>9.0</td>\n",
       "      <td>2008.0</td>\n",
       "      <td>0</td>\n",
       "      <td>NaN</td>\n",
       "      <td>NaN</td>\n",
       "      <td>NaN</td>\n",
       "      <td>2015</td>\n",
       "      <td>7</td>\n",
       "      <td>31</td>\n",
       "      <td>31</td>\n",
       "    </tr>\n",
       "    <tr>\n",
       "      <th>1</th>\n",
       "      <td>2</td>\n",
       "      <td>5</td>\n",
       "      <td>2015-07-31</td>\n",
       "      <td>6064</td>\n",
       "      <td>625</td>\n",
       "      <td>1</td>\n",
       "      <td>1</td>\n",
       "      <td>0</td>\n",
       "      <td>1</td>\n",
       "      <td>a</td>\n",
       "      <td>...</td>\n",
       "      <td>11.0</td>\n",
       "      <td>2007.0</td>\n",
       "      <td>1</td>\n",
       "      <td>13.0</td>\n",
       "      <td>2010.0</td>\n",
       "      <td>Jan,Apr,Jul,Oct</td>\n",
       "      <td>2015</td>\n",
       "      <td>7</td>\n",
       "      <td>31</td>\n",
       "      <td>31</td>\n",
       "    </tr>\n",
       "    <tr>\n",
       "      <th>2</th>\n",
       "      <td>3</td>\n",
       "      <td>5</td>\n",
       "      <td>2015-07-31</td>\n",
       "      <td>8314</td>\n",
       "      <td>821</td>\n",
       "      <td>1</td>\n",
       "      <td>1</td>\n",
       "      <td>0</td>\n",
       "      <td>1</td>\n",
       "      <td>a</td>\n",
       "      <td>...</td>\n",
       "      <td>12.0</td>\n",
       "      <td>2006.0</td>\n",
       "      <td>1</td>\n",
       "      <td>14.0</td>\n",
       "      <td>2011.0</td>\n",
       "      <td>Jan,Apr,Jul,Oct</td>\n",
       "      <td>2015</td>\n",
       "      <td>7</td>\n",
       "      <td>31</td>\n",
       "      <td>31</td>\n",
       "    </tr>\n",
       "    <tr>\n",
       "      <th>3</th>\n",
       "      <td>4</td>\n",
       "      <td>5</td>\n",
       "      <td>2015-07-31</td>\n",
       "      <td>13995</td>\n",
       "      <td>1498</td>\n",
       "      <td>1</td>\n",
       "      <td>1</td>\n",
       "      <td>0</td>\n",
       "      <td>1</td>\n",
       "      <td>c</td>\n",
       "      <td>...</td>\n",
       "      <td>9.0</td>\n",
       "      <td>2009.0</td>\n",
       "      <td>0</td>\n",
       "      <td>NaN</td>\n",
       "      <td>NaN</td>\n",
       "      <td>NaN</td>\n",
       "      <td>2015</td>\n",
       "      <td>7</td>\n",
       "      <td>31</td>\n",
       "      <td>31</td>\n",
       "    </tr>\n",
       "    <tr>\n",
       "      <th>4</th>\n",
       "      <td>5</td>\n",
       "      <td>5</td>\n",
       "      <td>2015-07-31</td>\n",
       "      <td>4822</td>\n",
       "      <td>559</td>\n",
       "      <td>1</td>\n",
       "      <td>1</td>\n",
       "      <td>0</td>\n",
       "      <td>1</td>\n",
       "      <td>a</td>\n",
       "      <td>...</td>\n",
       "      <td>4.0</td>\n",
       "      <td>2015.0</td>\n",
       "      <td>0</td>\n",
       "      <td>NaN</td>\n",
       "      <td>NaN</td>\n",
       "      <td>NaN</td>\n",
       "      <td>2015</td>\n",
       "      <td>7</td>\n",
       "      <td>31</td>\n",
       "      <td>31</td>\n",
       "    </tr>\n",
       "  </tbody>\n",
       "</table>\n",
       "<p>5 rows × 22 columns</p>\n",
       "</div>"
      ],
      "text/plain": [
       "   Store  DayOfWeek       Date  Sales  Customers  Open  Promo StateHoliday  \\\n",
       "0      1          5 2015-07-31   5263        555     1      1            0   \n",
       "1      2          5 2015-07-31   6064        625     1      1            0   \n",
       "2      3          5 2015-07-31   8314        821     1      1            0   \n",
       "3      4          5 2015-07-31  13995       1498     1      1            0   \n",
       "4      5          5 2015-07-31   4822        559     1      1            0   \n",
       "\n",
       "   SchoolHoliday StoreType  ... CompetitionOpenSinceMonth  \\\n",
       "0              1         c  ...                       9.0   \n",
       "1              1         a  ...                      11.0   \n",
       "2              1         a  ...                      12.0   \n",
       "3              1         c  ...                       9.0   \n",
       "4              1         a  ...                       4.0   \n",
       "\n",
       "   CompetitionOpenSinceYear  Promo2  Promo2SinceWeek  Promo2SinceYear  \\\n",
       "0                    2008.0       0              NaN              NaN   \n",
       "1                    2007.0       1             13.0           2010.0   \n",
       "2                    2006.0       1             14.0           2011.0   \n",
       "3                    2009.0       0              NaN              NaN   \n",
       "4                    2015.0       0              NaN              NaN   \n",
       "\n",
       "     PromoInterval  Year Month  Day  WeekOfYear  \n",
       "0              NaN  2015     7   31          31  \n",
       "1  Jan,Apr,Jul,Oct  2015     7   31          31  \n",
       "2  Jan,Apr,Jul,Oct  2015     7   31          31  \n",
       "3              NaN  2015     7   31          31  \n",
       "4              NaN  2015     7   31          31  \n",
       "\n",
       "[5 rows x 22 columns]"
      ]
     },
     "execution_count": 115,
     "metadata": {},
     "output_type": "execute_result"
    }
   ],
   "source": [
    "# add_date_features(train_store)\n",
    "train_store = util.add_month_year(train_store)\n",
    "test_store = util.add_month_year(test_store)\n",
    "\n",
    "train_store.head()"
   ]
  },
  {
   "cell_type": "markdown",
   "id": "e5155fdb",
   "metadata": {},
   "source": [
    "#### Adding year, month and day - Feature Engineering"
   ]
  },
  {
   "cell_type": "code",
   "execution_count": 117,
   "id": "5231a259",
   "metadata": {},
   "outputs": [
    {
     "name": "stdout",
     "output_type": "stream",
     "text": [
      "<class 'pandas.core.frame.DataFrame'>\n",
      "Int64Index: 1017209 entries, 0 to 1017208\n",
      "Data columns (total 22 columns):\n",
      " #   Column                     Non-Null Count    Dtype         \n",
      "---  ------                     --------------    -----         \n",
      " 0   Store                      1017209 non-null  int64         \n",
      " 1   DayOfWeek                  1017209 non-null  int64         \n",
      " 2   Date                       1017209 non-null  datetime64[ns]\n",
      " 3   Sales                      1017209 non-null  int64         \n",
      " 4   Customers                  1017209 non-null  int64         \n",
      " 5   Open                       1017209 non-null  int64         \n",
      " 6   Promo                      1017209 non-null  int64         \n",
      " 7   StateHoliday               1017209 non-null  object        \n",
      " 8   SchoolHoliday              1017209 non-null  int64         \n",
      " 9   StoreType                  1017209 non-null  object        \n",
      " 10  Assortment                 1017209 non-null  object        \n",
      " 11  CompetitionDistance        1014567 non-null  float64       \n",
      " 12  CompetitionOpenSinceMonth  693861 non-null   float64       \n",
      " 13  CompetitionOpenSinceYear   693861 non-null   float64       \n",
      " 14  Promo2                     1017209 non-null  int64         \n",
      " 15  Promo2SinceWeek            509178 non-null   float64       \n",
      " 16  Promo2SinceYear            509178 non-null   float64       \n",
      " 17  PromoInterval              509178 non-null   object        \n",
      " 18  Year                       1017209 non-null  int64         \n",
      " 19  Month                      1017209 non-null  int64         \n",
      " 20  Day                        1017209 non-null  int64         \n",
      " 21  WeekOfYear                 1017209 non-null  int64         \n",
      "dtypes: datetime64[ns](1), float64(5), int64(12), object(4)\n",
      "memory usage: 178.5+ MB\n"
     ]
    }
   ],
   "source": [
    "train_store.info()"
   ]
  },
  {
   "cell_type": "code",
   "execution_count": 119,
   "id": "c8b11db7",
   "metadata": {},
   "outputs": [
    {
     "name": "stdout",
     "output_type": "stream",
     "text": [
      "Train Null Percentage : 9.71 %\n"
     ]
    }
   ],
   "source": [
    "#Calculating null percentage in the train dataset\n",
    "print(f\"Train Null Percentage : {util.get_null_percentage(train_store)} %\")"
   ]
  },
  {
   "cell_type": "code",
   "execution_count": 121,
   "id": "5e641d9c",
   "metadata": {},
   "outputs": [
    {
     "data": {
      "text/plain": [
       "Store                             0\n",
       "DayOfWeek                         0\n",
       "Date                              0\n",
       "Sales                             0\n",
       "Customers                         0\n",
       "Open                              0\n",
       "Promo                             0\n",
       "StateHoliday                      0\n",
       "SchoolHoliday                     0\n",
       "StoreType                         0\n",
       "Assortment                        0\n",
       "CompetitionDistance            2642\n",
       "CompetitionOpenSinceMonth    323348\n",
       "CompetitionOpenSinceYear     323348\n",
       "Promo2                            0\n",
       "Promo2SinceWeek              508031\n",
       "Promo2SinceYear              508031\n",
       "PromoInterval                508031\n",
       "Year                              0\n",
       "Month                             0\n",
       "Day                               0\n",
       "WeekOfYear                        0\n",
       "dtype: int64"
      ]
     },
     "execution_count": 121,
     "metadata": {},
     "output_type": "execute_result"
    }
   ],
   "source": [
    "train_store.isnull().sum()"
   ]
  },
  {
   "cell_type": "code",
   "execution_count": 123,
   "id": "e3396c68",
   "metadata": {},
   "outputs": [],
   "source": [
    "# No particular pattern observed. In this case, it makes a complete sense to replace NaN with the median values\n",
    "train_store['CompetitionDistance'].fillna(train_store['CompetitionDistance'].median(), inplace = True)"
   ]
  },
  {
   "cell_type": "markdown",
   "id": "5d372053",
   "metadata": {},
   "source": [
    "#### Replacing the NAN in competitioDistance since no clear pattern is observed and also there are few data points"
   ]
  },
  {
   "cell_type": "code",
   "execution_count": 125,
   "id": "c86ecc4a",
   "metadata": {},
   "outputs": [
    {
     "data": {
      "text/plain": [
       "Store                        0\n",
       "DayOfWeek                    0\n",
       "Date                         0\n",
       "Sales                        0\n",
       "Customers                    0\n",
       "Open                         0\n",
       "Promo                        0\n",
       "StateHoliday                 0\n",
       "SchoolHoliday                0\n",
       "StoreType                    0\n",
       "Assortment                   0\n",
       "CompetitionDistance          0\n",
       "CompetitionOpenSinceMonth    0\n",
       "CompetitionOpenSinceYear     0\n",
       "Promo2                       0\n",
       "Promo2SinceWeek              0\n",
       "Promo2SinceYear              0\n",
       "PromoInterval                0\n",
       "Year                         0\n",
       "Month                        0\n",
       "Day                          0\n",
       "WeekOfYear                   0\n",
       "dtype: int64"
      ]
     },
     "execution_count": 125,
     "metadata": {},
     "output_type": "execute_result"
    }
   ],
   "source": [
    "train_store.fillna(0, inplace = True)\n",
    "train_store.isnull().sum()"
   ]
  },
  {
   "cell_type": "markdown",
   "id": "d7751850",
   "metadata": {},
   "source": [
    "#### Filling all the other missing numerical years with 0s"
   ]
  },
  {
   "cell_type": "code",
   "execution_count": 127,
   "id": "1b3c5ba8",
   "metadata": {},
   "outputs": [],
   "source": [
    "# train_store = train_store.set_index('Date', inplace=False)\n",
    "# train_store.head(5)"
   ]
  },
  {
   "cell_type": "code",
   "execution_count": 129,
   "id": "a3e78036",
   "metadata": {
    "scrolled": true
   },
   "outputs": [
    {
     "name": "stdout",
     "output_type": "stream",
     "text": [
      "<class 'pandas.core.frame.DataFrame'>\n",
      "RangeIndex: 1115 entries, 0 to 1114\n",
      "Data columns (total 10 columns):\n",
      " #   Column                     Non-Null Count  Dtype  \n",
      "---  ------                     --------------  -----  \n",
      " 0   Store                      1115 non-null   int64  \n",
      " 1   StoreType                  1115 non-null   object \n",
      " 2   Assortment                 1115 non-null   object \n",
      " 3   CompetitionDistance        1112 non-null   float64\n",
      " 4   CompetitionOpenSinceMonth  761 non-null    float64\n",
      " 5   CompetitionOpenSinceYear   761 non-null    float64\n",
      " 6   Promo2                     1115 non-null   int64  \n",
      " 7   Promo2SinceWeek            571 non-null    float64\n",
      " 8   Promo2SinceYear            571 non-null    float64\n",
      " 9   PromoInterval              571 non-null    object \n",
      "dtypes: float64(5), int64(2), object(3)\n",
      "memory usage: 87.2+ KB\n"
     ]
    }
   ],
   "source": [
    "store_data.info()"
   ]
  },
  {
   "cell_type": "code",
   "execution_count": 131,
   "id": "6188435c",
   "metadata": {
    "scrolled": false
   },
   "outputs": [
    {
     "data": {
      "image/png": "[encoded data removed]",
      "text/plain": [
       "<Figure size 720x504 with 1 Axes>"
      ]
     },
     "metadata": {
      "needs_background": "light"
     },
     "output_type": "display_data"
    }
   ],
   "source": [
    "\n",
    "plt.figure(figsize=(10, 7))\n",
    "plt.plot(train_store['Date'], train_store['Sales'])\n",
    "plt.title(\"Sales Made with regard to the Date\", fontsize=16)\n",
    "plt.xlabel(\"Date\")\n",
    "plt.ylabel(\"Sales\");"
   ]
  },
  {
   "cell_type": "code",
   "execution_count": 133,
   "id": "089d0f0d",
   "metadata": {},
   "outputs": [],
   "source": [
    "#Sorting a dataframe by date\n",
    "train_store = train_store.sort_values(by='Date')"
   ]
  },
  {
   "cell_type": "code",
   "execution_count": 135,
   "id": "599ce1f1",
   "metadata": {
    "scrolled": true
   },
   "outputs": [
    {
     "data": {
      "text/html": [
       "<div>\n",
       "<style scoped>\n",
       "    .dataframe tbody tr th:only-of-type {\n",
       "        vertical-align: middle;\n",
       "    }\n",
       "\n",
       "    .dataframe tbody tr th {\n",
       "        vertical-align: top;\n",
       "    }\n",
       "\n",
       "    .dataframe thead th {\n",
       "        text-align: right;\n",
       "    }\n",
       "</style>\n",
       "<table border=\"1\" class=\"dataframe\">\n",
       "  <thead>\n",
       "    <tr style=\"text-align: right;\">\n",
       "      <th></th>\n",
       "      <th>Store</th>\n",
       "      <th>DayOfWeek</th>\n",
       "      <th>Sales</th>\n",
       "      <th>Customers</th>\n",
       "      <th>Open</th>\n",
       "      <th>Promo</th>\n",
       "      <th>StateHoliday</th>\n",
       "      <th>SchoolHoliday</th>\n",
       "      <th>StoreType</th>\n",
       "      <th>Assortment</th>\n",
       "      <th>...</th>\n",
       "      <th>CompetitionOpenSinceMonth</th>\n",
       "      <th>CompetitionOpenSinceYear</th>\n",
       "      <th>Promo2</th>\n",
       "      <th>Promo2SinceWeek</th>\n",
       "      <th>Promo2SinceYear</th>\n",
       "      <th>PromoInterval</th>\n",
       "      <th>Year</th>\n",
       "      <th>Month</th>\n",
       "      <th>Day</th>\n",
       "      <th>WeekOfYear</th>\n",
       "    </tr>\n",
       "    <tr>\n",
       "      <th>Date</th>\n",
       "      <th></th>\n",
       "      <th></th>\n",
       "      <th></th>\n",
       "      <th></th>\n",
       "      <th></th>\n",
       "      <th></th>\n",
       "      <th></th>\n",
       "      <th></th>\n",
       "      <th></th>\n",
       "      <th></th>\n",
       "      <th></th>\n",
       "      <th></th>\n",
       "      <th></th>\n",
       "      <th></th>\n",
       "      <th></th>\n",
       "      <th></th>\n",
       "      <th></th>\n",
       "      <th></th>\n",
       "      <th></th>\n",
       "      <th></th>\n",
       "      <th></th>\n",
       "    </tr>\n",
       "  </thead>\n",
       "  <tbody>\n",
       "    <tr>\n",
       "      <th>2013-01-01</th>\n",
       "      <td>1115</td>\n",
       "      <td>2</td>\n",
       "      <td>0</td>\n",
       "      <td>0</td>\n",
       "      <td>0</td>\n",
       "      <td>0</td>\n",
       "      <td>a</td>\n",
       "      <td>1</td>\n",
       "      <td>d</td>\n",
       "      <td>c</td>\n",
       "      <td>...</td>\n",
       "      <td>0.0</td>\n",
       "      <td>0.0</td>\n",
       "      <td>1</td>\n",
       "      <td>22.0</td>\n",
       "      <td>2012.0</td>\n",
       "      <td>Mar,Jun,Sept,Dec</td>\n",
       "      <td>2013</td>\n",
       "      <td>1</td>\n",
       "      <td>1</td>\n",
       "      <td>1</td>\n",
       "    </tr>\n",
       "    <tr>\n",
       "      <th>2013-01-01</th>\n",
       "      <td>379</td>\n",
       "      <td>2</td>\n",
       "      <td>0</td>\n",
       "      <td>0</td>\n",
       "      <td>0</td>\n",
       "      <td>0</td>\n",
       "      <td>a</td>\n",
       "      <td>1</td>\n",
       "      <td>d</td>\n",
       "      <td>a</td>\n",
       "      <td>...</td>\n",
       "      <td>0.0</td>\n",
       "      <td>0.0</td>\n",
       "      <td>0</td>\n",
       "      <td>0.0</td>\n",
       "      <td>0.0</td>\n",
       "      <td>0</td>\n",
       "      <td>2013</td>\n",
       "      <td>1</td>\n",
       "      <td>1</td>\n",
       "      <td>1</td>\n",
       "    </tr>\n",
       "    <tr>\n",
       "      <th>2013-01-01</th>\n",
       "      <td>378</td>\n",
       "      <td>2</td>\n",
       "      <td>0</td>\n",
       "      <td>0</td>\n",
       "      <td>0</td>\n",
       "      <td>0</td>\n",
       "      <td>a</td>\n",
       "      <td>1</td>\n",
       "      <td>a</td>\n",
       "      <td>c</td>\n",
       "      <td>...</td>\n",
       "      <td>8.0</td>\n",
       "      <td>2012.0</td>\n",
       "      <td>0</td>\n",
       "      <td>0.0</td>\n",
       "      <td>0.0</td>\n",
       "      <td>0</td>\n",
       "      <td>2013</td>\n",
       "      <td>1</td>\n",
       "      <td>1</td>\n",
       "      <td>1</td>\n",
       "    </tr>\n",
       "    <tr>\n",
       "      <th>2013-01-01</th>\n",
       "      <td>377</td>\n",
       "      <td>2</td>\n",
       "      <td>0</td>\n",
       "      <td>0</td>\n",
       "      <td>0</td>\n",
       "      <td>0</td>\n",
       "      <td>a</td>\n",
       "      <td>1</td>\n",
       "      <td>a</td>\n",
       "      <td>c</td>\n",
       "      <td>...</td>\n",
       "      <td>6.0</td>\n",
       "      <td>2010.0</td>\n",
       "      <td>1</td>\n",
       "      <td>18.0</td>\n",
       "      <td>2010.0</td>\n",
       "      <td>Feb,May,Aug,Nov</td>\n",
       "      <td>2013</td>\n",
       "      <td>1</td>\n",
       "      <td>1</td>\n",
       "      <td>1</td>\n",
       "    </tr>\n",
       "    <tr>\n",
       "      <th>2013-01-01</th>\n",
       "      <td>376</td>\n",
       "      <td>2</td>\n",
       "      <td>0</td>\n",
       "      <td>0</td>\n",
       "      <td>0</td>\n",
       "      <td>0</td>\n",
       "      <td>a</td>\n",
       "      <td>1</td>\n",
       "      <td>a</td>\n",
       "      <td>a</td>\n",
       "      <td>...</td>\n",
       "      <td>8.0</td>\n",
       "      <td>2012.0</td>\n",
       "      <td>0</td>\n",
       "      <td>0.0</td>\n",
       "      <td>0.0</td>\n",
       "      <td>0</td>\n",
       "      <td>2013</td>\n",
       "      <td>1</td>\n",
       "      <td>1</td>\n",
       "      <td>1</td>\n",
       "    </tr>\n",
       "  </tbody>\n",
       "</table>\n",
       "<p>5 rows × 21 columns</p>\n",
       "</div>"
      ],
      "text/plain": [
       "            Store  DayOfWeek  Sales  Customers  Open  Promo StateHoliday  \\\n",
       "Date                                                                       \n",
       "2013-01-01   1115          2      0          0     0      0            a   \n",
       "2013-01-01    379          2      0          0     0      0            a   \n",
       "2013-01-01    378          2      0          0     0      0            a   \n",
       "2013-01-01    377          2      0          0     0      0            a   \n",
       "2013-01-01    376          2      0          0     0      0            a   \n",
       "\n",
       "            SchoolHoliday StoreType Assortment  ...  \\\n",
       "Date                                            ...   \n",
       "2013-01-01              1         d          c  ...   \n",
       "2013-01-01              1         d          a  ...   \n",
       "2013-01-01              1         a          c  ...   \n",
       "2013-01-01              1         a          c  ...   \n",
       "2013-01-01              1         a          a  ...   \n",
       "\n",
       "            CompetitionOpenSinceMonth  CompetitionOpenSinceYear  Promo2  \\\n",
       "Date                                                                      \n",
       "2013-01-01                        0.0                       0.0       1   \n",
       "2013-01-01                        0.0                       0.0       0   \n",
       "2013-01-01                        8.0                    2012.0       0   \n",
       "2013-01-01                        6.0                    2010.0       1   \n",
       "2013-01-01                        8.0                    2012.0       0   \n",
       "\n",
       "            Promo2SinceWeek  Promo2SinceYear     PromoInterval  Year  Month  \\\n",
       "Date                                                                          \n",
       "2013-01-01             22.0           2012.0  Mar,Jun,Sept,Dec  2013      1   \n",
       "2013-01-01              0.0              0.0                 0  2013      1   \n",
       "2013-01-01              0.0              0.0                 0  2013      1   \n",
       "2013-01-01             18.0           2010.0   Feb,May,Aug,Nov  2013      1   \n",
       "2013-01-01              0.0              0.0                 0  2013      1   \n",
       "\n",
       "            Day  WeekOfYear  \n",
       "Date                         \n",
       "2013-01-01    1           1  \n",
       "2013-01-01    1           1  \n",
       "2013-01-01    1           1  \n",
       "2013-01-01    1           1  \n",
       "2013-01-01    1           1  \n",
       "\n",
       "[5 rows x 21 columns]"
      ]
     },
     "execution_count": 135,
     "metadata": {},
     "output_type": "execute_result"
    }
   ],
   "source": [
    "train_store = train_store.set_index('Date', inplace=False)\n",
    "train_store.head(5)"
   ]
  },
  {
   "cell_type": "code",
   "execution_count": 137,
   "id": "79d9d905",
   "metadata": {
    "scrolled": false
   },
   "outputs": [
    {
     "data": {
      "text/html": [
       "<div>\n",
       "<style scoped>\n",
       "    .dataframe tbody tr th:only-of-type {\n",
       "        vertical-align: middle;\n",
       "    }\n",
       "\n",
       "    .dataframe tbody tr th {\n",
       "        vertical-align: top;\n",
       "    }\n",
       "\n",
       "    .dataframe thead th {\n",
       "        text-align: right;\n",
       "    }\n",
       "</style>\n",
       "<table border=\"1\" class=\"dataframe\">\n",
       "  <thead>\n",
       "    <tr style=\"text-align: right;\">\n",
       "      <th></th>\n",
       "      <th>Store</th>\n",
       "      <th>DayOfWeek</th>\n",
       "      <th>Sales</th>\n",
       "      <th>Customers</th>\n",
       "      <th>Open</th>\n",
       "      <th>Promo</th>\n",
       "      <th>StateHoliday</th>\n",
       "      <th>SchoolHoliday</th>\n",
       "      <th>StoreType</th>\n",
       "      <th>Assortment</th>\n",
       "      <th>...</th>\n",
       "      <th>CompetitionOpenSinceMonth</th>\n",
       "      <th>CompetitionOpenSinceYear</th>\n",
       "      <th>Promo2</th>\n",
       "      <th>Promo2SinceWeek</th>\n",
       "      <th>Promo2SinceYear</th>\n",
       "      <th>PromoInterval</th>\n",
       "      <th>Year</th>\n",
       "      <th>Month</th>\n",
       "      <th>Day</th>\n",
       "      <th>WeekOfYear</th>\n",
       "    </tr>\n",
       "    <tr>\n",
       "      <th>Date</th>\n",
       "      <th></th>\n",
       "      <th></th>\n",
       "      <th></th>\n",
       "      <th></th>\n",
       "      <th></th>\n",
       "      <th></th>\n",
       "      <th></th>\n",
       "      <th></th>\n",
       "      <th></th>\n",
       "      <th></th>\n",
       "      <th></th>\n",
       "      <th></th>\n",
       "      <th></th>\n",
       "      <th></th>\n",
       "      <th></th>\n",
       "      <th></th>\n",
       "      <th></th>\n",
       "      <th></th>\n",
       "      <th></th>\n",
       "      <th></th>\n",
       "      <th></th>\n",
       "    </tr>\n",
       "  </thead>\n",
       "  <tbody>\n",
       "    <tr>\n",
       "      <th>2013-01-01</th>\n",
       "      <td>1115</td>\n",
       "      <td>2</td>\n",
       "      <td>0</td>\n",
       "      <td>0</td>\n",
       "      <td>0</td>\n",
       "      <td>0</td>\n",
       "      <td>a</td>\n",
       "      <td>1</td>\n",
       "      <td>3</td>\n",
       "      <td>2</td>\n",
       "      <td>...</td>\n",
       "      <td>0.0</td>\n",
       "      <td>0.0</td>\n",
       "      <td>1</td>\n",
       "      <td>22.0</td>\n",
       "      <td>2012.0</td>\n",
       "      <td>Mar,Jun,Sept,Dec</td>\n",
       "      <td>2013</td>\n",
       "      <td>1</td>\n",
       "      <td>1</td>\n",
       "      <td>1</td>\n",
       "    </tr>\n",
       "    <tr>\n",
       "      <th>2013-01-01</th>\n",
       "      <td>379</td>\n",
       "      <td>2</td>\n",
       "      <td>0</td>\n",
       "      <td>0</td>\n",
       "      <td>0</td>\n",
       "      <td>0</td>\n",
       "      <td>a</td>\n",
       "      <td>1</td>\n",
       "      <td>3</td>\n",
       "      <td>0</td>\n",
       "      <td>...</td>\n",
       "      <td>0.0</td>\n",
       "      <td>0.0</td>\n",
       "      <td>0</td>\n",
       "      <td>0.0</td>\n",
       "      <td>0.0</td>\n",
       "      <td>0</td>\n",
       "      <td>2013</td>\n",
       "      <td>1</td>\n",
       "      <td>1</td>\n",
       "      <td>1</td>\n",
       "    </tr>\n",
       "    <tr>\n",
       "      <th>2013-01-01</th>\n",
       "      <td>378</td>\n",
       "      <td>2</td>\n",
       "      <td>0</td>\n",
       "      <td>0</td>\n",
       "      <td>0</td>\n",
       "      <td>0</td>\n",
       "      <td>a</td>\n",
       "      <td>1</td>\n",
       "      <td>0</td>\n",
       "      <td>2</td>\n",
       "      <td>...</td>\n",
       "      <td>8.0</td>\n",
       "      <td>2012.0</td>\n",
       "      <td>0</td>\n",
       "      <td>0.0</td>\n",
       "      <td>0.0</td>\n",
       "      <td>0</td>\n",
       "      <td>2013</td>\n",
       "      <td>1</td>\n",
       "      <td>1</td>\n",
       "      <td>1</td>\n",
       "    </tr>\n",
       "    <tr>\n",
       "      <th>2013-01-01</th>\n",
       "      <td>377</td>\n",
       "      <td>2</td>\n",
       "      <td>0</td>\n",
       "      <td>0</td>\n",
       "      <td>0</td>\n",
       "      <td>0</td>\n",
       "      <td>a</td>\n",
       "      <td>1</td>\n",
       "      <td>0</td>\n",
       "      <td>2</td>\n",
       "      <td>...</td>\n",
       "      <td>6.0</td>\n",
       "      <td>2010.0</td>\n",
       "      <td>1</td>\n",
       "      <td>18.0</td>\n",
       "      <td>2010.0</td>\n",
       "      <td>Feb,May,Aug,Nov</td>\n",
       "      <td>2013</td>\n",
       "      <td>1</td>\n",
       "      <td>1</td>\n",
       "      <td>1</td>\n",
       "    </tr>\n",
       "    <tr>\n",
       "      <th>2013-01-01</th>\n",
       "      <td>376</td>\n",
       "      <td>2</td>\n",
       "      <td>0</td>\n",
       "      <td>0</td>\n",
       "      <td>0</td>\n",
       "      <td>0</td>\n",
       "      <td>a</td>\n",
       "      <td>1</td>\n",
       "      <td>0</td>\n",
       "      <td>0</td>\n",
       "      <td>...</td>\n",
       "      <td>8.0</td>\n",
       "      <td>2012.0</td>\n",
       "      <td>0</td>\n",
       "      <td>0.0</td>\n",
       "      <td>0.0</td>\n",
       "      <td>0</td>\n",
       "      <td>2013</td>\n",
       "      <td>1</td>\n",
       "      <td>1</td>\n",
       "      <td>1</td>\n",
       "    </tr>\n",
       "  </tbody>\n",
       "</table>\n",
       "<p>5 rows × 21 columns</p>\n",
       "</div>"
      ],
      "text/plain": [
       "            Store  DayOfWeek  Sales  Customers  Open  Promo StateHoliday  \\\n",
       "Date                                                                       \n",
       "2013-01-01   1115          2      0          0     0      0            a   \n",
       "2013-01-01    379          2      0          0     0      0            a   \n",
       "2013-01-01    378          2      0          0     0      0            a   \n",
       "2013-01-01    377          2      0          0     0      0            a   \n",
       "2013-01-01    376          2      0          0     0      0            a   \n",
       "\n",
       "            SchoolHoliday  StoreType  Assortment  ...  \\\n",
       "Date                                              ...   \n",
       "2013-01-01              1          3           2  ...   \n",
       "2013-01-01              1          3           0  ...   \n",
       "2013-01-01              1          0           2  ...   \n",
       "2013-01-01              1          0           2  ...   \n",
       "2013-01-01              1          0           0  ...   \n",
       "\n",
       "            CompetitionOpenSinceMonth  CompetitionOpenSinceYear  Promo2  \\\n",
       "Date                                                                      \n",
       "2013-01-01                        0.0                       0.0       1   \n",
       "2013-01-01                        0.0                       0.0       0   \n",
       "2013-01-01                        8.0                    2012.0       0   \n",
       "2013-01-01                        6.0                    2010.0       1   \n",
       "2013-01-01                        8.0                    2012.0       0   \n",
       "\n",
       "            Promo2SinceWeek  Promo2SinceYear     PromoInterval  Year  Month  \\\n",
       "Date                                                                          \n",
       "2013-01-01             22.0           2012.0  Mar,Jun,Sept,Dec  2013      1   \n",
       "2013-01-01              0.0              0.0                 0  2013      1   \n",
       "2013-01-01              0.0              0.0                 0  2013      1   \n",
       "2013-01-01             18.0           2010.0   Feb,May,Aug,Nov  2013      1   \n",
       "2013-01-01              0.0              0.0                 0  2013      1   \n",
       "\n",
       "            Day  WeekOfYear  \n",
       "Date                         \n",
       "2013-01-01    1           1  \n",
       "2013-01-01    1           1  \n",
       "2013-01-01    1           1  \n",
       "2013-01-01    1           1  \n",
       "2013-01-01    1           1  \n",
       "\n",
       "[5 rows x 21 columns]"
      ]
     },
     "execution_count": 137,
     "metadata": {},
     "output_type": "execute_result"
    }
   ],
   "source": [
    "### Label encoding\n",
    "lb = LabelEncoder()\n",
    "train_store['StoreType'] = lb.fit_transform(train_store['StoreType'])\n",
    "train_store['Assortment'] = lb.fit_transform(train_store['Assortment'])\n",
    "# train_store['PromoInterval'] = lb.fit_transform(train_store['PromoInterval'])\n",
    "\n",
    "#Will come check performance if this column is dropped\n",
    "\n",
    "train_store.head()"
   ]
  },
  {
   "cell_type": "markdown",
   "id": "78bdaaeb",
   "metadata": {},
   "source": [
    "#### Transforming the categorical variables into numerical features for machine learning"
   ]
  },
  {
   "cell_type": "code",
   "execution_count": 139,
   "id": "11aafd3c",
   "metadata": {},
   "outputs": [],
   "source": [
    "#Columns that will be used for modelling\n",
    "columns = ['Sales','Store', 'DayOfWeek', 'Open', 'Promo',  'SchoolHoliday', 'Day', 'WeekOfYear','Month', 'Year', 'StoreType',\n",
    "              'Assortment','CompetitionDistance', 'Promo2']\n",
    "\n",
    "feature_columns = ['Store', 'DayOfWeek', 'Open', 'Promo',  'SchoolHoliday', 'Day', 'WeekOfYear','Month', 'Year', 'StoreType',\n",
    "              'Assortment','CompetitionDistance', 'Promo2']\n",
    "\n",
    "sample_size = 100000\n",
    "sampled_df = (train_store[columns].sample(sample_size)).sort_values(by='Date')"
   ]
  },
  {
   "cell_type": "code",
   "execution_count": 141,
   "id": "5915c8ba",
   "metadata": {
    "scrolled": false
   },
   "outputs": [
    {
     "data": {
      "text/html": [
       "<div>\n",
       "<style scoped>\n",
       "    .dataframe tbody tr th:only-of-type {\n",
       "        vertical-align: middle;\n",
       "    }\n",
       "\n",
       "    .dataframe tbody tr th {\n",
       "        vertical-align: top;\n",
       "    }\n",
       "\n",
       "    .dataframe thead th {\n",
       "        text-align: right;\n",
       "    }\n",
       "</style>\n",
       "<table border=\"1\" class=\"dataframe\">\n",
       "  <thead>\n",
       "    <tr style=\"text-align: right;\">\n",
       "      <th></th>\n",
       "      <th>Store</th>\n",
       "      <th>DayOfWeek</th>\n",
       "      <th>Open</th>\n",
       "      <th>Promo</th>\n",
       "      <th>SchoolHoliday</th>\n",
       "      <th>Day</th>\n",
       "      <th>WeekOfYear</th>\n",
       "      <th>Month</th>\n",
       "      <th>Year</th>\n",
       "      <th>StoreType</th>\n",
       "      <th>Assortment</th>\n",
       "      <th>CompetitionDistance</th>\n",
       "      <th>Promo2</th>\n",
       "    </tr>\n",
       "    <tr>\n",
       "      <th>Date</th>\n",
       "      <th></th>\n",
       "      <th></th>\n",
       "      <th></th>\n",
       "      <th></th>\n",
       "      <th></th>\n",
       "      <th></th>\n",
       "      <th></th>\n",
       "      <th></th>\n",
       "      <th></th>\n",
       "      <th></th>\n",
       "      <th></th>\n",
       "      <th></th>\n",
       "      <th></th>\n",
       "    </tr>\n",
       "  </thead>\n",
       "  <tbody>\n",
       "    <tr>\n",
       "      <th>2013-01-01</th>\n",
       "      <td>285</td>\n",
       "      <td>2</td>\n",
       "      <td>0</td>\n",
       "      <td>0</td>\n",
       "      <td>1</td>\n",
       "      <td>1</td>\n",
       "      <td>1</td>\n",
       "      <td>1</td>\n",
       "      <td>2013</td>\n",
       "      <td>0</td>\n",
       "      <td>0</td>\n",
       "      <td>2410.0</td>\n",
       "      <td>0</td>\n",
       "    </tr>\n",
       "    <tr>\n",
       "      <th>2013-01-01</th>\n",
       "      <td>669</td>\n",
       "      <td>2</td>\n",
       "      <td>0</td>\n",
       "      <td>0</td>\n",
       "      <td>1</td>\n",
       "      <td>1</td>\n",
       "      <td>1</td>\n",
       "      <td>1</td>\n",
       "      <td>2013</td>\n",
       "      <td>3</td>\n",
       "      <td>0</td>\n",
       "      <td>17080.0</td>\n",
       "      <td>1</td>\n",
       "    </tr>\n",
       "    <tr>\n",
       "      <th>2013-01-01</th>\n",
       "      <td>387</td>\n",
       "      <td>2</td>\n",
       "      <td>0</td>\n",
       "      <td>0</td>\n",
       "      <td>1</td>\n",
       "      <td>1</td>\n",
       "      <td>1</td>\n",
       "      <td>1</td>\n",
       "      <td>2013</td>\n",
       "      <td>2</td>\n",
       "      <td>0</td>\n",
       "      <td>210.0</td>\n",
       "      <td>1</td>\n",
       "    </tr>\n",
       "    <tr>\n",
       "      <th>2013-01-01</th>\n",
       "      <td>386</td>\n",
       "      <td>2</td>\n",
       "      <td>0</td>\n",
       "      <td>0</td>\n",
       "      <td>1</td>\n",
       "      <td>1</td>\n",
       "      <td>1</td>\n",
       "      <td>1</td>\n",
       "      <td>2013</td>\n",
       "      <td>3</td>\n",
       "      <td>2</td>\n",
       "      <td>1460.0</td>\n",
       "      <td>1</td>\n",
       "    </tr>\n",
       "    <tr>\n",
       "      <th>2013-01-01</th>\n",
       "      <td>952</td>\n",
       "      <td>2</td>\n",
       "      <td>0</td>\n",
       "      <td>0</td>\n",
       "      <td>1</td>\n",
       "      <td>1</td>\n",
       "      <td>1</td>\n",
       "      <td>1</td>\n",
       "      <td>2013</td>\n",
       "      <td>3</td>\n",
       "      <td>2</td>\n",
       "      <td>6300.0</td>\n",
       "      <td>0</td>\n",
       "    </tr>\n",
       "  </tbody>\n",
       "</table>\n",
       "</div>"
      ],
      "text/plain": [
       "            Store  DayOfWeek  Open  Promo  SchoolHoliday  Day  WeekOfYear  \\\n",
       "Date                                                                        \n",
       "2013-01-01    285          2     0      0              1    1           1   \n",
       "2013-01-01    669          2     0      0              1    1           1   \n",
       "2013-01-01    387          2     0      0              1    1           1   \n",
       "2013-01-01    386          2     0      0              1    1           1   \n",
       "2013-01-01    952          2     0      0              1    1           1   \n",
       "\n",
       "            Month  Year  StoreType  Assortment  CompetitionDistance  Promo2  \n",
       "Date                                                                         \n",
       "2013-01-01      1  2013          0           0               2410.0       0  \n",
       "2013-01-01      1  2013          3           0              17080.0       1  \n",
       "2013-01-01      1  2013          2           0                210.0       1  \n",
       "2013-01-01      1  2013          3           2               1460.0       1  \n",
       "2013-01-01      1  2013          3           2               6300.0       0  "
      ]
     },
     "execution_count": 141,
     "metadata": {},
     "output_type": "execute_result"
    }
   ],
   "source": [
    "## Separate Test and train files\n",
    "train_x = sampled_df[feature_columns]\n",
    "train_y = sampled_df[['Sales']]\n",
    "train_x.head()"
   ]
  },
  {
   "cell_type": "code",
   "execution_count": 143,
   "id": "484f6db0",
   "metadata": {},
   "outputs": [],
   "source": [
    "#Creating train_data for Deep Learning\n",
    "train_dataset = train_store[columns].sort_values(by='Date')\n",
    "train_dataset.head()\n",
    "train_dataset.to_csv('../data/clean_train.csv', index=False)"
   ]
  },
  {
   "cell_type": "code",
   "execution_count": 145,
   "id": "1e7eed6a",
   "metadata": {},
   "outputs": [],
   "source": [
    "# #Working on the test dataset\n",
    "\n",
    "\n",
    "# test_data = pd.read_csv('../data/test.csv')\n",
    "# test_store = pd.merge(test_data, store_data, how = 'left', on = \"Store\")\n",
    "# test_store = util.add_month_year(test_store)\n",
    "# test_store['CompetitionDistance'].fillna(train_store['CompetitionDistance'].median(), inplace = True)\n",
    "# test_store.fillna(0, inplace = True)\n",
    "# test_store = train_store.sort_values(by='Date')\n",
    "# test_store = train_store.set_index('Date', inplace=False)\n",
    "# test_store['StoreType'] = lb.fit_transform(train_store['StoreType'])\n",
    "# test_store['Assortment'] = lb.fit_transform(train_store['Assortment'])\n",
    "\n",
    "\n",
    "\n",
    "# test_dataset = (test_store[columns].sort_values(by='Date')\n",
    "# test_dataset.to_csv('../data/clean_test.csv')"
   ]
  },
  {
   "cell_type": "code",
   "execution_count": 171,
   "id": "9c2ac75c",
   "metadata": {},
   "outputs": [
    {
     "data": {
      "text/plain": [
       "100000"
      ]
     },
     "execution_count": 171,
     "metadata": {},
     "output_type": "execute_result"
    }
   ],
   "source": [
    "# Get sales date array\n",
    "timesteps = train_x.index.to_numpy()\n",
    "sales = train_y[\"Sales\"].to_numpy()\n",
    "\n",
    "\n",
    "timesteps[:10], sales[:10]\n"
   ]
  },
  {
   "cell_type": "code",
   "execution_count": null,
   "id": "7833ce30",
   "metadata": {},
   "outputs": [],
   "source": []
  },
  {
   "cell_type": "code",
   "execution_count": 177,
   "id": "d922607e",
   "metadata": {},
   "outputs": [
    {
     "data": {
      "text/plain": [
       "(80000, 20000, 80000, 20000)"
      ]
     },
     "execution_count": 177,
     "metadata": {},
     "output_type": "execute_result"
    }
   ],
   "source": [
    "# Create train and test splits the right way for time series data\n",
    "split_size = int(0.8 * len(sales)) # 80% train, 20% test\n",
    "\n",
    "# Create train data splits (everything before the split)\n",
    "X_train, y_train = timesteps[:split_size], sales[:split_size]\n",
    "\n",
    "# Create test data splits (everything after the split)\n",
    "X_test, y_test = timesteps[split_size:], sales[split_size:]\n",
    "\n",
    "\n",
    "\n",
    "len(X_train), len(X_test), len(y_train), len(y_test)"
   ]
  },
  {
   "cell_type": "code",
   "execution_count": 150,
   "id": "d8f9d9a2",
   "metadata": {},
   "outputs": [
    {
     "data": {
      "image/png": "[encoded data removed]",
      "text/plain": [
       "<Figure size 720x504 with 1 Axes>"
      ]
     },
     "metadata": {
      "needs_background": "light"
     },
     "output_type": "display_data"
    }
   ],
   "source": [
    "plt.figure(figsize=(10, 7))\n",
    "plt.scatter(X_train, y_train, s=5, label=\"Train data\")\n",
    "plt.scatter(X_test, y_test, s=5, label=\"Test data\")\n",
    "plt.xlabel(\"Date\")\n",
    "plt.ylabel(\"sales\")\n",
    "plt.legend(fontsize=14)\n",
    "plt.show();"
   ]
  },
  {
   "cell_type": "markdown",
   "id": "f7d1f941",
   "metadata": {},
   "source": [
    "#### Create Train and Test set for our data in such a way that we engineer our test set to be in the future with respect to the training set"
   ]
  },
  {
   "cell_type": "code",
   "execution_count": 151,
   "id": "1f2090da",
   "metadata": {},
   "outputs": [
    {
     "data": {
      "text/plain": [
       "(80000, 20000, 80000, 20000)"
      ]
     },
     "execution_count": 151,
     "metadata": {},
     "output_type": "execute_result"
    }
   ],
   "source": [
    "timesteps = train_x.to_numpy()\n",
    "sales = train_y.to_numpy()\n",
    "\n",
    "\n",
    "\n",
    "\n",
    "# Create train and test splits the right way for time series data\n",
    "split_size = int(0.8 * len(sales)) # 80% train, 20% test\n",
    "\n",
    "# Create train data splits (everything before the split)\n",
    "X_train, y_train = timesteps[:split_size], sales[:split_size]\n",
    "\n",
    "# Create test data splits (everything after the split)\n",
    "X_test, y_test = timesteps[split_size:], sales[split_size:]\n",
    "\n",
    "\n",
    "\n",
    "len(X_train), len(X_test), len(y_train), len(y_test)"
   ]
  },
  {
   "cell_type": "code",
   "execution_count": 152,
   "id": "5c9909b6",
   "metadata": {},
   "outputs": [
    {
     "name": "stderr",
     "output_type": "stream",
     "text": [
      "C:\\Users\\ProgrammingOperative\\AppData\\Local\\Temp\\ipykernel_3488\\283857576.py:2: DataConversionWarning: A column-vector y was passed when a 1d array was expected. Please change the shape of y to (n_samples,), for example using ravel().\n",
      "  rf_reg.fit(X_train, y_train)\n"
     ]
    },
    {
     "data": {
      "text/plain": [
       "RandomForestRegressor(max_depth=25, random_state=0)"
      ]
     },
     "execution_count": 152,
     "metadata": {},
     "output_type": "execute_result"
    }
   ],
   "source": [
    "rf_reg = RandomForestRegressor(n_estimators = 100, max_depth=25, random_state=0)\n",
    "rf_reg.fit(X_train, y_train)"
   ]
  },
  {
   "cell_type": "code",
   "execution_count": 153,
   "id": "1a40c3cf",
   "metadata": {},
   "outputs": [
    {
     "name": "stdout",
     "output_type": "stream",
     "text": [
      "Prediction Score of the Model is 90.16%\n"
     ]
    }
   ],
   "source": [
    "score = rf_reg.score(X_test, y_test)\n",
    "print(f\"Prediction Score of the Model is {round(score * 100, 2)}%\")"
   ]
  },
  {
   "cell_type": "markdown",
   "id": "00a3a242",
   "metadata": {},
   "source": [
    "#### Good prediction score"
   ]
  },
  {
   "cell_type": "code",
   "execution_count": null,
   "id": "bea34d11",
   "metadata": {},
   "outputs": [],
   "source": []
  },
  {
   "cell_type": "code",
   "execution_count": 154,
   "id": "2f3874a6",
   "metadata": {},
   "outputs": [],
   "source": [
    "x_scaler = MinMaxScaler()\n",
    "y_scaler = MinMaxScaler()\n",
    "\n",
    "# X = x_scaler.fit_transform(train_x)\n",
    "X = X_train\n",
    "Y = y_scaler.fit_transform(y_train)"
   ]
  },
  {
   "cell_type": "code",
   "execution_count": 155,
   "id": "ecd62cce",
   "metadata": {},
   "outputs": [],
   "source": [
    "# Implementation of the pipeline"
   ]
  },
  {
   "cell_type": "markdown",
   "id": "d8a2084a",
   "metadata": {},
   "source": [
    "## Building models with sklearn pipelines"
   ]
  },
  {
   "cell_type": "code",
   "execution_count": 156,
   "id": "57d66cf9",
   "metadata": {},
   "outputs": [],
   "source": [
    "rfr = Pipeline(steps=[\n",
    "    ('scaler1', MinMaxScaler()),\n",
    "    ('rfr_regression', RandomForestRegressor(n_estimators = 100, max_depth=5, random_state=0))\n",
    "])\n",
    "\n",
    "lr = Pipeline(steps=[\n",
    "    ('scaler2', MinMaxScaler()),\n",
    "    ('lr_regression', LinearRegression())\n",
    "])\n",
    "\n",
    "dt = Pipeline(steps=[\n",
    "    ('scaler3', MinMaxScaler()),\n",
    "    ('dt_regretion', DecisionTreeRegressor(random_state = 0)  )\n",
    "])"
   ]
  },
  {
   "cell_type": "markdown",
   "id": "a4a0e506",
   "metadata": {},
   "source": [
    "#### Create a pipeline where the data is first scaled before model training"
   ]
  },
  {
   "cell_type": "code",
   "execution_count": 157,
   "id": "a00f870a",
   "metadata": {},
   "outputs": [
    {
     "name": "stderr",
     "output_type": "stream",
     "text": [
      "C:\\Users\\ProgrammingOperative\\anaconda3\\lib\\site-packages\\sklearn\\pipeline.py:394: DataConversionWarning: A column-vector y was passed when a 1d array was expected. Please change the shape of y to (n_samples,), for example using ravel().\n",
      "  self._final_estimator.fit(Xt, y, **fit_params_last_step)\n"
     ]
    },
    {
     "data": {
      "text/plain": [
       "Pipeline(steps=[('scaler3', MinMaxScaler()),\n",
       "                ('dt_regretion', DecisionTreeRegressor(random_state=0))])"
      ]
     },
     "execution_count": 157,
     "metadata": {},
     "output_type": "execute_result"
    }
   ],
   "source": [
    "rfr.fit(X_train, y_train)\n",
    "lr.fit(X_train, y_train)\n",
    "dt.fit(X_train, y_train)"
   ]
  },
  {
   "cell_type": "code",
   "execution_count": 158,
   "id": "aa2d85b4",
   "metadata": {
    "scrolled": true
   },
   "outputs": [
    {
     "name": "stdout",
     "output_type": "stream",
     "text": [
      "RandomForestRegretion prediction score 57.77%\n",
      "LinearRegression Prediction Score 56.69%\n",
      "DecisionTree Prediction Score 83.1%\n"
     ]
    }
   ],
   "source": [
    "rfr_score = rfr.score(X_test, y_test)\n",
    "lr_score = lr.score(X_test, y_test)\n",
    "dt_score = dt.score(X_test, y_test)\n",
    "\n",
    "print(f\"RandomForestRegretion prediction score {round(rfr_score * 100, 2)}%\")\n",
    "print(f\"LinearRegression Prediction Score {round(lr_score * 100, 2)}%\")\n",
    "print(f\"DecisionTree Prediction Score {round(dt_score * 100, 2)}%\")"
   ]
  },
  {
   "cell_type": "markdown",
   "id": "4354a6f1",
   "metadata": {},
   "source": [
    "## Choosing a loss function"
   ]
  },
  {
   "cell_type": "code",
   "execution_count": 159,
   "id": "0c6c2855",
   "metadata": {},
   "outputs": [
    {
     "name": "stdout",
     "output_type": "stream",
     "text": [
      "RandomForest Mean Square Loss : 2519.6360641009387\n",
      "Linear Mean Square Loss : 2551.727599655818\n",
      "DecisionTree Mean Square Loss : 1594.0153820462335%\n"
     ]
    }
   ],
   "source": [
    "rfr_prediction = rfr.predict(X_test)\n",
    "lr_prediction = lr.predict(X_test)\n",
    "dt_prediction = dt.predict(X_test)\n",
    "\n",
    "rfr_rmse, rft_mae, _ = util.eval_metrics(y_test, rfr_prediction)\n",
    "lr_rmse, lr_mae, _ = util.eval_metrics(y_test, lr_prediction)\n",
    "dt_rmse, dt_mae, _ = util.eval_metrics(y_test, dt_prediction)\n",
    "\n",
    "\n",
    "# print(f\"Mean Absolute Loss : {round(mae * 100, 2)}%\")\n",
    "print(f\"RandomForest Mean Square Loss : {rfr_rmse}\")\n",
    "print(f\"Linear Mean Square Loss : {lr_rmse}\")\n",
    "print(f\"DecisionTree Mean Square Loss : {dt_rmse }%\")"
   ]
  },
  {
   "cell_type": "markdown",
   "id": "78d2690c",
   "metadata": {},
   "source": [
    "#### Choosing Mean Square Error as my loss function"
   ]
  },
  {
   "cell_type": "code",
   "execution_count": 160,
   "id": "2b65cf37",
   "metadata": {},
   "outputs": [
    {
     "data": {
      "image/png": "[encoded data removed]",
      "text/plain": [
       "<Figure size 864x432 with 1 Axes>"
      ]
     },
     "metadata": {
      "needs_background": "light"
     },
     "output_type": "display_data"
    }
   ],
   "source": [
    "important_features = rfr[1].feature_importances_\n",
    "plots.bar(feature_columns, important_features, 'RandomForestRegretion Feature Importance')"
   ]
  },
  {
   "cell_type": "markdown",
   "id": "4e67d90d",
   "metadata": {},
   "source": [
    "## Post Prediction analysis"
   ]
  },
  {
   "cell_type": "code",
   "execution_count": 161,
   "id": "78ebc98f",
   "metadata": {},
   "outputs": [
    {
     "data": {
      "image/png": "[encoded data removed]",
      "text/plain": [
       "<Figure size 864x432 with 1 Axes>"
      ]
     },
     "metadata": {
      "needs_background": "light"
     },
     "output_type": "display_data"
    }
   ],
   "source": [
    "important_features = dt[1].feature_importances_\n",
    "plots.bar(feature_columns, important_features)"
   ]
  },
  {
   "cell_type": "markdown",
   "id": "c43e6509",
   "metadata": {},
   "source": [
    "#### Feature importance of our best perfoming algorithm"
   ]
  },
  {
   "cell_type": "markdown",
   "id": "75c2bb57",
   "metadata": {},
   "source": [
    "## Models Serialization"
   ]
  },
  {
   "cell_type": "code",
   "execution_count": 162,
   "id": "2baa0c8f",
   "metadata": {
    "scrolled": false
   },
   "outputs": [
    {
     "name": "stdout",
     "output_type": "stream",
     "text": [
      "dt-19:13:47.pkl\n",
      "lt-19:13:47.pkl\n",
      "reg-19:13:47.pkl\n"
     ]
    }
   ],
   "source": [
    "# now = datetime.now()\n",
    "# current_time = now.strftime(\"%H:%M:%S\")\n",
    "\n",
    "reg_model_file_name = f'reg-{datetime.now().strftime(\"%H:%M:%S\")}.pkl'\n",
    "lr_model_file_name = f'lt-{datetime.now().strftime(\"%H:%M:%S\")}.pkl'\n",
    "dt_model_file_name = f'dt-{datetime.now().strftime(\"%H:%M:%S\")}.pkl'\n",
    "\n",
    "files_path = [reg_model_file_name, lr_model_file_name, dt_model_file_name]\n",
    "models = [rfr, lr, dt]\n",
    "\n",
    "print(dt_model_file_name)\n",
    "print(lr_model_file_name)\n",
    "print(reg_model_file_name)"
   ]
  },
  {
   "cell_type": "code",
   "execution_count": 163,
   "id": "623e8279",
   "metadata": {},
   "outputs": [
    {
     "name": "stdout",
     "output_type": "stream",
     "text": [
      "..\\models\n"
     ]
    }
   ],
   "source": [
    "models_path = Config.MODELS_PATH\n",
    "print(models_path)"
   ]
  },
  {
   "cell_type": "code",
   "execution_count": 164,
   "id": "1221d6b3",
   "metadata": {},
   "outputs": [
    {
     "data": {
      "text/plain": [
       "WindowsPath('../models/dt-09:48:19.pkl')"
      ]
     },
     "execution_count": 164,
     "metadata": {},
     "output_type": "execute_result"
    }
   ],
   "source": [
    "path = models_path /\"dt-09:48:19.pkl\"\n",
    "path"
   ]
  },
  {
   "cell_type": "code",
   "execution_count": 165,
   "id": "1d49c8de",
   "metadata": {},
   "outputs": [],
   "source": [
    "#Dump decision tree because it has better accuracy\n",
    "\n",
    "model_path = '../models/' + datetime.now().strftime(\"%Y-%m-%d-%H-%M-%S\") + '.pkl'\n",
    "pickle.dump(dt, open(model_path, 'wb'))"
   ]
  },
  {
   "cell_type": "code",
   "execution_count": 167,
   "id": "0f63d0bf",
   "metadata": {},
   "outputs": [
    {
     "data": {
      "text/plain": [
       "0.0726040461061819"
      ]
     },
     "execution_count": 167,
     "metadata": {},
     "output_type": "execute_result"
    }
   ],
   "source": [
    "important_features = dt[1].feature_importances_\n",
    "important_features[3]"
   ]
  },
  {
   "cell_type": "code",
   "execution_count": 168,
   "id": "fa998bb4",
   "metadata": {},
   "outputs": [
    {
     "ename": "NameError",
     "evalue": "name 'array' is not defined",
     "output_type": "error",
     "traceback": [
      "\u001b[1;31m---------------------------------------------------------------------------\u001b[0m",
      "\u001b[1;31mNameError\u001b[0m                                 Traceback (most recent call last)",
      "Input \u001b[1;32mIn [168]\u001b[0m, in \u001b[0;36m<cell line: 1>\u001b[1;34m()\u001b[0m\n\u001b[1;32m----> 1\u001b[0m \u001b[38;5;28minput\u001b[39m \u001b[38;5;241m=\u001b[39m \u001b[43marray\u001b[49m(\u001b[38;5;241m34\u001b[39m,\u001b[38;5;241m45\u001b[39m,\u001b[38;5;241m78\u001b[39m,\u001b[38;5;241m90\u001b[39m)\n",
      "\u001b[1;31mNameError\u001b[0m: name 'array' is not defined"
     ]
    }
   ],
   "source": [
    "test"
   ]
  },
  {
   "cell_type": "markdown",
   "id": "0ebb0c1d",
   "metadata": {},
   "source": [
    "#### Serialization for easy tracking of  predictions from various models."
   ]
  }
 ],
 "metadata": {
  "kernelspec": {
   "display_name": "machine_learning",
   "language": "python",
   "name": "machine_learning"
  },
  "language_info": {
   "codemirror_mode": {
    "name": "ipython",
    "version": 3
   },
   "file_extension": ".py",
   "mimetype": "text/x-python",
   "name": "python",
   "nbconvert_exporter": "python",
   "pygments_lexer": "ipython3",
   "version": "3.9.12"
  }
 },
 "nbformat": 4,
 "nbformat_minor": 5
}
